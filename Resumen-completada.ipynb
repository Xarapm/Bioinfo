{
 "cells": [
  {
   "cell_type": "markdown",
   "id": "985e6f9b",
   "metadata": {},
   "source": [
    "# PRACTICA 6\n",
    "\n",
    "### ¡Con todo lo aprendido con Python, vamos a resolver unos ejercicios de Bioinformática!\n",
    "\n",
    "#### 1.- Concatena las cadenas ATGCC y TCCG"
   ]
  },
  {
   "cell_type": "code",
   "execution_count": 1,
   "id": "e00eca4b",
   "metadata": {},
   "outputs": [],
   "source": [
    "a=\"ATGCC\"\n",
    "b=\"TCCG\""
   ]
  },
  {
   "cell_type": "code",
   "execution_count": 2,
   "id": "4b66fe52",
   "metadata": {},
   "outputs": [
    {
     "data": {
      "text/plain": [
       "'ATGCCTCCG'"
      ]
     },
     "execution_count": 2,
     "metadata": {},
     "output_type": "execute_result"
    }
   ],
   "source": [
    "a+b"
   ]
  },
  {
   "cell_type": "code",
   "execution_count": null,
   "id": "1db2604f",
   "metadata": {},
   "outputs": [],
   "source": [
    "#con el más unímos las dos cadenas, para guardarla habría que crear una variable "
   ]
  },
  {
   "cell_type": "markdown",
   "id": "1f4b7708",
   "metadata": {},
   "source": [
    "#### 2.- ¿Cuál es la longitud de ATGCGAGT?"
   ]
  },
  {
   "cell_type": "code",
   "execution_count": 3,
   "id": "8f78cad8",
   "metadata": {},
   "outputs": [],
   "source": [
    "dna=\"ATGCGAGT\""
   ]
  },
  {
   "cell_type": "code",
   "execution_count": 4,
   "id": "4f5e9649",
   "metadata": {},
   "outputs": [
    {
     "data": {
      "text/plain": [
       "8"
      ]
     },
     "execution_count": 4,
     "metadata": {},
     "output_type": "execute_result"
    }
   ],
   "source": [
    "len(dna)"
   ]
  },
  {
   "cell_type": "code",
   "execution_count": null,
   "id": "61288be4",
   "metadata": {},
   "outputs": [],
   "source": [
    "#len para saber la longitud "
   ]
  },
  {
   "cell_type": "markdown",
   "id": "6361c287",
   "metadata": {},
   "source": [
    "#### 3.- Con la cadena mgXDyTw, ponla en mayúsculas, luego en minúsculas. Extrae su longitud y divide la cadena por la letra \"g\""
   ]
  },
  {
   "cell_type": "code",
   "execution_count": 11,
   "id": "b69beca1",
   "metadata": {},
   "outputs": [],
   "source": [
    "cadena=\"mgXDyTw\""
   ]
  },
  {
   "cell_type": "code",
   "execution_count": 12,
   "id": "82927879",
   "metadata": {},
   "outputs": [
    {
     "data": {
      "text/plain": [
       "'MGXDYTW'"
      ]
     },
     "execution_count": 12,
     "metadata": {},
     "output_type": "execute_result"
    }
   ],
   "source": [
    "cadena.upper()"
   ]
  },
  {
   "cell_type": "code",
   "execution_count": 14,
   "id": "364f94ba",
   "metadata": {},
   "outputs": [],
   "source": [
    "#upper para hacer todas las letras mayúsculas "
   ]
  },
  {
   "cell_type": "code",
   "execution_count": 17,
   "id": "6eac6e46",
   "metadata": {},
   "outputs": [],
   "source": [
    "cadena_min=cadena.lower()"
   ]
  },
  {
   "cell_type": "code",
   "execution_count": null,
   "id": "aea27d79",
   "metadata": {},
   "outputs": [],
   "source": [
    "#para crear una variable con todas las letras en minúscula "
   ]
  },
  {
   "cell_type": "code",
   "execution_count": 16,
   "id": "82f12969",
   "metadata": {},
   "outputs": [
    {
     "data": {
      "text/plain": [
       "['m', 'xdytw']"
      ]
     },
     "execution_count": 16,
     "metadata": {},
     "output_type": "execute_result"
    }
   ],
   "source": [
    "cadena_min.split(\"g\")"
   ]
  },
  {
   "cell_type": "code",
   "execution_count": null,
   "id": "50d670e7",
   "metadata": {},
   "outputs": [],
   "source": [
    "#para eliminar un caracter "
   ]
  },
  {
   "cell_type": "markdown",
   "id": "91c2ca9d",
   "metadata": {},
   "source": [
    "#### 4.- Con la secuencia de aminoácidos vlspadktnv, reemplaza la valina con la tirosina. Pista: usa replace()"
   ]
  },
  {
   "cell_type": "code",
   "execution_count": 18,
   "id": "a049ecdd",
   "metadata": {},
   "outputs": [],
   "source": [
    "aa = \"vlspadktnv\""
   ]
  },
  {
   "cell_type": "code",
   "execution_count": 19,
   "id": "32d1f87b",
   "metadata": {},
   "outputs": [
    {
     "data": {
      "text/plain": [
       "'ylspadktny'"
      ]
     },
     "execution_count": 19,
     "metadata": {},
     "output_type": "execute_result"
    }
   ],
   "source": [
    "aa.replace(\"v\",\"y\")"
   ]
  },
  {
   "cell_type": "code",
   "execution_count": null,
   "id": "02818e12",
   "metadata": {},
   "outputs": [],
   "source": [
    "#reemplaza la v por la y, no la guarda porque no hemos creado una variable "
   ]
  },
  {
   "cell_type": "markdown",
   "id": "97f9ecd6",
   "metadata": {},
   "source": [
    "#### 5.- Cuenta las valinas de la secuencia original anterior."
   ]
  },
  {
   "cell_type": "code",
   "execution_count": 21,
   "id": "5a0beecf",
   "metadata": {},
   "outputs": [
    {
     "name": "stdout",
     "output_type": "stream",
     "text": [
      "Valines: 2\n"
     ]
    }
   ],
   "source": [
    "valines=aa.count(\"v\")\n",
    "print(f'Valines: {valines}')"
   ]
  },
  {
   "cell_type": "code",
   "execution_count": null,
   "id": "cecf87d1",
   "metadata": {},
   "outputs": [],
   "source": [
    "#conteo de cuantas valinas hay "
   ]
  },
  {
   "cell_type": "markdown",
   "id": "6aac8e24",
   "metadata": {},
   "source": [
    "#### 6.- Con el diccionario siguiente imprime el valor de BisI y saca el valor de EcoRI con pop(). ¿Qué pasa con el diccionario?"
   ]
  },
  {
   "cell_type": "code",
   "execution_count": 22,
   "id": "c0c811d7",
   "metadata": {},
   "outputs": [],
   "source": [
    "enzR = {\n",
    "    'EcoRI':r'GAATTC',\n",
    "    'AvaII':r'GG(A|T)CC',\n",
    "    'BisI':r'GC[ATGC]GC'\n",
    "}"
   ]
  },
  {
   "cell_type": "code",
   "execution_count": 23,
   "id": "fdd66614",
   "metadata": {},
   "outputs": [
    {
     "data": {
      "text/plain": [
       "'GC[ATGC]GC'"
      ]
     },
     "execution_count": 23,
     "metadata": {},
     "output_type": "execute_result"
    }
   ],
   "source": [
    "enzR['BisI']"
   ]
  },
  {
   "cell_type": "code",
   "execution_count": 24,
   "id": "45e0d917",
   "metadata": {},
   "outputs": [
    {
     "data": {
      "text/plain": [
       "'GAATTC'"
      ]
     },
     "execution_count": 24,
     "metadata": {},
     "output_type": "execute_result"
    }
   ],
   "source": [
    "enzR.pop('EcoRI')"
   ]
  },
  {
   "cell_type": "code",
   "execution_count": null,
   "id": "fe5c5749",
   "metadata": {},
   "outputs": [],
   "source": [
    "# el primero es para acceder al valor de Bisl\n",
    "# pop extrae el elemento del diccionario, no solo accede a él "
   ]
  },
  {
   "cell_type": "markdown",
   "id": "4646bddd",
   "metadata": {},
   "source": [
    "#### 7.- Con la secuencia y la lista siguiente, escribe un algoritmo que cuente el número de veces que aparece un elemento de la lista en la secuencia. Pista: hacer un diccionario para almacenar los resultados puede ser buena idea"
   ]
  },
  {
   "cell_type": "code",
   "execution_count": 30,
   "id": "0a701a5e",
   "metadata": {},
   "outputs": [],
   "source": [
    "dna = \"AATGATGAACGAC\" \n",
    "dinucleotides = ['AA','AT','AG','AC', \n",
    "                 'TA','TT','TG','TC', \n",
    "                 'GA','GT','GG','GC', \n",
    "                 'CA','CT','CG','CT'] "
   ]
  },
  {
   "cell_type": "code",
   "execution_count": 31,
   "id": "bed1de48",
   "metadata": {},
   "outputs": [
    {
     "data": {
      "text/plain": [
       "{'AA': 2,\n",
       " 'AT': 2,\n",
       " 'AG': 0,\n",
       " 'AC': 2,\n",
       " 'TA': 0,\n",
       " 'TT': 0,\n",
       " 'TG': 2,\n",
       " 'TC': 0,\n",
       " 'GA': 3,\n",
       " 'GT': 0,\n",
       " 'GG': 0,\n",
       " 'GC': 0,\n",
       " 'CA': 0,\n",
       " 'CT': 0,\n",
       " 'CG': 1}"
      ]
     },
     "execution_count": 31,
     "metadata": {},
     "output_type": "execute_result"
    }
   ],
   "source": [
    "dict_DNT={}\n",
    "for DNT in dinucleotides: \n",
    "    conteo=dna.count(DNT)\n",
    "    dict_DNT[DNT]= conteo\n",
    "dict_DNT"
   ]
  },
  {
   "cell_type": "code",
   "execution_count": null,
   "id": "4f17ca34",
   "metadata": {},
   "outputs": [],
   "source": [
    "#para crear un diccionario que tenga cada par de nucleotidos y el número de veces que se repite esas parejas en la secuencia"
   ]
  },
  {
   "cell_type": "code",
   "execution_count": 26,
   "id": "44f22848",
   "metadata": {},
   "outputs": [
    {
     "name": "stdout",
     "output_type": "stream",
     "text": [
      "AA\n",
      "AT\n",
      "AG\n",
      "AC\n",
      "TA\n",
      "TT\n",
      "TG\n",
      "TC\n",
      "GA\n",
      "GT\n",
      "GG\n",
      "GC\n",
      "CA\n",
      "CT\n",
      "CG\n",
      "CT\n"
     ]
    }
   ],
   "source": [
    "for DNT in dinucleotides: \n",
    "    print(DNT)"
   ]
  },
  {
   "cell_type": "code",
   "execution_count": 27,
   "id": "a22c9d35",
   "metadata": {},
   "outputs": [],
   "source": [
    "#para imprimir la lista completa "
   ]
  },
  {
   "cell_type": "code",
   "execution_count": 28,
   "id": "00cc2580",
   "metadata": {},
   "outputs": [
    {
     "name": "stdout",
     "output_type": "stream",
     "text": [
      "AA\n",
      "2\n",
      "AT\n",
      "2\n",
      "AG\n",
      "0\n",
      "AC\n",
      "2\n",
      "TA\n",
      "0\n",
      "TT\n",
      "0\n",
      "TG\n",
      "2\n",
      "TC\n",
      "0\n",
      "GA\n",
      "3\n",
      "GT\n",
      "0\n",
      "GG\n",
      "0\n",
      "GC\n",
      "0\n",
      "CA\n",
      "0\n",
      "CT\n",
      "0\n",
      "CG\n",
      "1\n",
      "CT\n",
      "0\n"
     ]
    }
   ],
   "source": [
    "for DNT in dinucleotides: \n",
    "    conteo=dna.count(DNT)\n",
    "    print(DNT)\n",
    "    print(conteo)"
   ]
  },
  {
   "cell_type": "code",
   "execution_count": 29,
   "id": "43878ef6",
   "metadata": {},
   "outputs": [],
   "source": [
    "#para cada elemento, calcula el nº de veces que está cada elemento en la secuencia y te lo imprime "
   ]
  },
  {
   "cell_type": "markdown",
   "id": "a44b5e4c",
   "metadata": {},
   "source": [
    "##### ¿Cuántos counts tiene TC?"
   ]
  },
  {
   "cell_type": "code",
   "execution_count": 32,
   "id": "74cea684",
   "metadata": {},
   "outputs": [
    {
     "data": {
      "text/plain": [
       "0"
      ]
     },
     "execution_count": 32,
     "metadata": {},
     "output_type": "execute_result"
    }
   ],
   "source": [
    "dict_DNT['TC']"
   ]
  },
  {
   "cell_type": "code",
   "execution_count": null,
   "id": "a582c708",
   "metadata": {},
   "outputs": [],
   "source": [
    "#cuántas veces se repite TC en la secuencia "
   ]
  },
  {
   "cell_type": "markdown",
   "id": "70245f18",
   "metadata": {},
   "source": [
    "##### ¿Puedes imprimir los dinuleótidos que tengan counts igual a 2?"
   ]
  },
  {
   "cell_type": "code",
   "execution_count": 41,
   "id": "72ee631f",
   "metadata": {},
   "outputs": [
    {
     "name": "stdout",
     "output_type": "stream",
     "text": [
      "AA\n",
      "AT\n",
      "AG\n",
      "AC\n",
      "TA\n",
      "TT\n",
      "TG\n",
      "TC\n",
      "GA\n",
      "GT\n",
      "GG\n",
      "GC\n",
      "CA\n",
      "CT\n",
      "CG\n"
     ]
    }
   ],
   "source": [
    "for key in dict_DNT.keys():\n",
    "    print(key)"
   ]
  },
  {
   "cell_type": "code",
   "execution_count": 42,
   "id": "aa6bfb15",
   "metadata": {},
   "outputs": [],
   "source": [
    "#para seleccionar solo las keys del diccionario "
   ]
  },
  {
   "cell_type": "code",
   "execution_count": 47,
   "id": "13af3cba",
   "metadata": {},
   "outputs": [
    {
     "name": "stdout",
     "output_type": "stream",
     "text": [
      "AA\n",
      "la key AA tiene el valor 2\n",
      "AT\n",
      "la key AT tiene el valor 2\n",
      "AG\n",
      "la key AG tiene el valor 0\n",
      "AC\n",
      "la key AC tiene el valor 2\n",
      "TA\n",
      "la key TA tiene el valor 0\n",
      "TT\n",
      "la key TT tiene el valor 0\n",
      "TG\n",
      "la key TG tiene el valor 2\n",
      "TC\n",
      "la key TC tiene el valor 0\n",
      "GA\n",
      "la key GA tiene el valor 3\n",
      "GT\n",
      "la key GT tiene el valor 0\n",
      "GG\n",
      "la key GG tiene el valor 0\n",
      "GC\n",
      "la key GC tiene el valor 0\n",
      "CA\n",
      "la key CA tiene el valor 0\n",
      "CT\n",
      "la key CT tiene el valor 0\n",
      "CG\n",
      "la key CG tiene el valor 1\n"
     ]
    }
   ],
   "source": [
    "for key in dict_DNT.keys():\n",
    "    print(key)\n",
    "    valor=dict_DNT[key]\n",
    "    print(f'la key {key} tiene el valor {valor}')"
   ]
  },
  {
   "cell_type": "code",
   "execution_count": 49,
   "id": "907ff067",
   "metadata": {},
   "outputs": [
    {
     "name": "stdout",
     "output_type": "stream",
     "text": [
      "AA\n",
      "la key AA tiene el valor 2\n",
      "AT\n",
      "la key AT tiene el valor 2\n",
      "AG\n",
      "AC\n",
      "la key AC tiene el valor 2\n",
      "TA\n",
      "TT\n",
      "TG\n",
      "la key TG tiene el valor 2\n",
      "TC\n",
      "GA\n",
      "GT\n",
      "GG\n",
      "GC\n",
      "CA\n",
      "CT\n",
      "CG\n"
     ]
    }
   ],
   "source": [
    "for key in dict_DNT.keys():\n",
    "    print(key)\n",
    "    valor=dict_DNT[key]\n",
    "    if valor == 2:\n",
    "        print(f'la key {key} tiene el valor {valor}')"
   ]
  },
  {
   "cell_type": "code",
   "execution_count": null,
   "id": "386bf7be",
   "metadata": {},
   "outputs": [],
   "source": [
    "#para que solo me seleccione las keys con valor igual a 2"
   ]
  },
  {
   "cell_type": "markdown",
   "id": "28748e51",
   "metadata": {},
   "source": [
    "##### 8.- Abre el fichero dna.txt, guarda una lista del contenido del archivo. Devuelve su longitud y su primer caracter"
   ]
  },
  {
   "cell_type": "code",
   "execution_count": 50,
   "id": "2d430f33",
   "metadata": {},
   "outputs": [],
   "source": [
    "file=open(\"dna.txt\")"
   ]
  },
  {
   "cell_type": "code",
   "execution_count": 51,
   "id": "55923995",
   "metadata": {},
   "outputs": [],
   "source": [
    "#para cargar/abrir un archivo EN LA MISMA CARPETA"
   ]
  },
  {
   "cell_type": "code",
   "execution_count": 53,
   "id": "6d5b62f0",
   "metadata": {},
   "outputs": [],
   "source": [
    "all_lines = file.readlines()"
   ]
  },
  {
   "cell_type": "code",
   "execution_count": 54,
   "id": "25a22c86",
   "metadata": {},
   "outputs": [],
   "source": [
    "#para crear una lista con las lineas de nuestro archivo "
   ]
  },
  {
   "cell_type": "code",
   "execution_count": 55,
   "id": "698c17c8",
   "metadata": {},
   "outputs": [],
   "source": [
    "file.close()"
   ]
  },
  {
   "cell_type": "code",
   "execution_count": 56,
   "id": "1dd45f68",
   "metadata": {},
   "outputs": [],
   "source": [
    "#para cerrar el fichero "
   ]
  },
  {
   "cell_type": "code",
   "execution_count": 57,
   "id": "225b215d",
   "metadata": {},
   "outputs": [
    {
     "data": {
      "text/plain": [
       "['ATCGATCGATCGATCGACTGACTAGTCATAGCTATGCATGTAGCTACTCGATCGATCGATCGATCGATCGATCGATCGATCGATCATGCTATCATCGATCGATATCGATGCATCGACTACTAT']"
      ]
     },
     "execution_count": 57,
     "metadata": {},
     "output_type": "execute_result"
    }
   ],
   "source": [
    "all_lines"
   ]
  },
  {
   "cell_type": "code",
   "execution_count": 58,
   "id": "c967ff31",
   "metadata": {},
   "outputs": [
    {
     "data": {
      "text/plain": [
       "1"
      ]
     },
     "execution_count": 58,
     "metadata": {},
     "output_type": "execute_result"
    }
   ],
   "source": [
    "len(all_lines)"
   ]
  },
  {
   "cell_type": "code",
   "execution_count": 59,
   "id": "0d0c167d",
   "metadata": {},
   "outputs": [],
   "source": [
    "#para saber la longitud de la lista\n",
    "#1 porque solo hay un elemento en la lista "
   ]
  },
  {
   "cell_type": "code",
   "execution_count": 61,
   "id": "010dcf58",
   "metadata": {},
   "outputs": [
    {
     "data": {
      "text/plain": [
       "123"
      ]
     },
     "execution_count": 61,
     "metadata": {},
     "output_type": "execute_result"
    }
   ],
   "source": [
    "len(all_lines[0])"
   ]
  },
  {
   "cell_type": "code",
   "execution_count": 62,
   "id": "fa2e8524",
   "metadata": {},
   "outputs": [],
   "source": [
    "#para seleccionar un solo elemento de la lista "
   ]
  },
  {
   "cell_type": "code",
   "execution_count": 63,
   "id": "f455eb98",
   "metadata": {},
   "outputs": [
    {
     "data": {
      "text/plain": [
       "'ATCGATCGATCGATCGACTGACTAGTCATAGCTATGCATGTAGCTACTCGATCGATCGATCGATCGATCGATCGATCGATCGATCATGCTATCATCGATCGATATCGATGCATCGACTACTAT'"
      ]
     },
     "execution_count": 63,
     "metadata": {},
     "output_type": "execute_result"
    }
   ],
   "source": [
    "cadena_dna=all_lines[0]\n",
    "cadena_dna"
   ]
  },
  {
   "cell_type": "code",
   "execution_count": 64,
   "id": "f8696258",
   "metadata": {},
   "outputs": [],
   "source": [
    "#guardamos en un archivo el primer elemento de la lista "
   ]
  },
  {
   "cell_type": "code",
   "execution_count": 65,
   "id": "4fbc40af",
   "metadata": {},
   "outputs": [
    {
     "data": {
      "text/plain": [
       "'A'"
      ]
     },
     "execution_count": 65,
     "metadata": {},
     "output_type": "execute_result"
    }
   ],
   "source": [
    "cadena_dna[0]"
   ]
  },
  {
   "cell_type": "code",
   "execution_count": null,
   "id": "3c56fcb1",
   "metadata": {},
   "outputs": [],
   "source": [
    "#para saber el primer elemento de la línea (all_lines[0][0], esto haría lo mismo pero sin la necesidad de hacer un archivo)"
   ]
  },
  {
   "cell_type": "markdown",
   "id": "9b87396a",
   "metadata": {},
   "source": [
    "##### 9.- Crea dos archivos. Uno almacena los accession que empiezen por 'a' y el otro el resto"
   ]
  },
  {
   "cell_type": "code",
   "execution_count": 80,
   "id": "73957856",
   "metadata": {},
   "outputs": [],
   "source": [
    "accs = ['ab56', 'bh84', 'hv76', 'ay93', 'ap97', 'bd72']"
   ]
  },
  {
   "cell_type": "code",
   "execution_count": 84,
   "id": "dc2ada04",
   "metadata": {},
   "outputs": [],
   "source": [
    "file1=open(\"acc_a.txt\", \"w\")"
   ]
  },
  {
   "cell_type": "code",
   "execution_count": 69,
   "id": "eba24e00",
   "metadata": {},
   "outputs": [],
   "source": [
    "#la w sobreescribe el archivo y lo cambia con los datos nuevos \n",
    "#la a mantiene el archivo como es aunque le hagas cambios "
   ]
  },
  {
   "cell_type": "code",
   "execution_count": 85,
   "id": "b8114987",
   "metadata": {},
   "outputs": [],
   "source": [
    "file2=open(\"acc_rest.txt\",\"w\")"
   ]
  },
  {
   "cell_type": "code",
   "execution_count": 72,
   "id": "ef012894",
   "metadata": {},
   "outputs": [
    {
     "name": "stdout",
     "output_type": "stream",
     "text": [
      "ab56\n",
      "ay93\n",
      "ap97\n"
     ]
    }
   ],
   "source": [
    "for acc in accs: \n",
    "    if acc.startswith('a'):\n",
    "        print(acc)"
   ]
  },
  {
   "cell_type": "code",
   "execution_count": 73,
   "id": "402712f5",
   "metadata": {},
   "outputs": [],
   "source": [
    "#para seleccionar solo los elementos de la lista que empiezen por a "
   ]
  },
  {
   "cell_type": "code",
   "execution_count": 86,
   "id": "37f261ca",
   "metadata": {},
   "outputs": [],
   "source": [
    "for acc in accs: \n",
    "    if acc.startswith('a'):\n",
    "        file1.write(acc+\"\\n\")\n",
    "    else: \n",
    "        file2.write(acc+\"\\n\")\n",
    "        #print(acc)"
   ]
  },
  {
   "cell_type": "code",
   "execution_count": null,
   "id": "c0c107f0",
   "metadata": {},
   "outputs": [],
   "source": [
    "#para cambiar los archivos y guardar en file 1 SOLO los que empiecen por a y en file 2 el resto "
   ]
  },
  {
   "cell_type": "markdown",
   "id": "9cbb4adf",
   "metadata": {},
   "source": [
    "##### 10.- Imprime solamente los accessions de la lista anterior que empiecen por 'a' y no acaben con '6'. Pista: usa endswith() y startswidth()"
   ]
  },
  {
   "cell_type": "code",
   "execution_count": 90,
   "id": "2465a22c",
   "metadata": {},
   "outputs": [
    {
     "name": "stdout",
     "output_type": "stream",
     "text": [
      "ay93\n",
      "ap97\n"
     ]
    }
   ],
   "source": [
    "for acc in accs: \n",
    "    if acc.startswith('a') and not acc.endswith('6'):\n",
    "        print(acc)"
   ]
  },
  {
   "cell_type": "code",
   "execution_count": null,
   "id": "965497d2",
   "metadata": {},
   "outputs": [],
   "source": [
    "#para seleccionar las secuncias que empiezan por a y que no acaben con un 6"
   ]
  },
  {
   "cell_type": "markdown",
   "id": "42c397b0",
   "metadata": {},
   "source": [
    "##### 11.- Escribe una función que cuente el porcentaje de AT de una secuencia"
   ]
  },
  {
   "cell_type": "code",
   "execution_count": 9,
   "id": "06f579c2",
   "metadata": {},
   "outputs": [],
   "source": [
    "dna = \"AATGATGAACGAC\""
   ]
  },
  {
   "cell_type": "code",
   "execution_count": 101,
   "id": "dc37e8f2",
   "metadata": {},
   "outputs": [],
   "source": [
    "def get_at_percentaje(secuencia):\n",
    "    num_a=secuencia.count(\"A\")\n",
    "    num_t=secuencia.count(\"T\")\n",
    "    num_at=num_a+num_t\n",
    "    longitud=len(secuencia)\n",
    "    porcentaje_at=(num_at/longitud)*100\n",
    "    return porcentaje_at"
   ]
  },
  {
   "cell_type": "code",
   "execution_count": 102,
   "id": "34d10c23",
   "metadata": {},
   "outputs": [
    {
     "data": {
      "text/plain": [
       "61.53846153846154"
      ]
     },
     "execution_count": 102,
     "metadata": {},
     "output_type": "execute_result"
    }
   ],
   "source": [
    "get_at_percentaje(dna)"
   ]
  },
  {
   "cell_type": "code",
   "execution_count": null,
   "id": "69e37497",
   "metadata": {},
   "outputs": [],
   "source": [
    "#definimos una función, en la que dentro hemos escrito diferentes operaciones para que nos devuelva el procentaje de AT que ahy en nuestra secuencia"
   ]
  },
  {
   "cell_type": "code",
   "execution_count": 93,
   "id": "e6961940",
   "metadata": {},
   "outputs": [
    {
     "data": {
      "text/plain": [
       "6"
      ]
     },
     "execution_count": 93,
     "metadata": {},
     "output_type": "execute_result"
    }
   ],
   "source": [
    "num_a=dna.count(\"A\")\n",
    "num_a"
   ]
  },
  {
   "cell_type": "code",
   "execution_count": 95,
   "id": "55f6e41b",
   "metadata": {},
   "outputs": [
    {
     "data": {
      "text/plain": [
       "2"
      ]
     },
     "execution_count": 95,
     "metadata": {},
     "output_type": "execute_result"
    }
   ],
   "source": [
    "num_t=dna.count(\"T\")\n",
    "num_t"
   ]
  },
  {
   "cell_type": "code",
   "execution_count": 96,
   "id": "e63a1dd2",
   "metadata": {},
   "outputs": [
    {
     "data": {
      "text/plain": [
       "13"
      ]
     },
     "execution_count": 96,
     "metadata": {},
     "output_type": "execute_result"
    }
   ],
   "source": [
    "longitud=len(dna)\n",
    "longitud"
   ]
  },
  {
   "cell_type": "code",
   "execution_count": 97,
   "id": "972d9f0e",
   "metadata": {},
   "outputs": [],
   "source": [
    "num_at=num_a+num_t"
   ]
  },
  {
   "cell_type": "code",
   "execution_count": 99,
   "id": "5e65d99d",
   "metadata": {},
   "outputs": [
    {
     "data": {
      "text/plain": [
       "61.53846153846154"
      ]
     },
     "execution_count": 99,
     "metadata": {},
     "output_type": "execute_result"
    }
   ],
   "source": [
    "porcentaje_at=(num_at/longitud)*100\n",
    "porcentaje_at"
   ]
  },
  {
   "cell_type": "code",
   "execution_count": null,
   "id": "da2294d0",
   "metadata": {},
   "outputs": [],
   "source": [
    "#primero contamos el numero de a y de t\n",
    "#averiguamos el total de bases \n",
    "#para hallar el porcentaje hacemos la suma de at / el total de bases por 100"
   ]
  },
  {
   "cell_type": "markdown",
   "id": "054b8f51",
   "metadata": {},
   "source": [
    "##### ¿Puedes hacer que devuelva dos decimales? ¿Y que lidie con mayúsculas y minúsculas?"
   ]
  },
  {
   "cell_type": "code",
   "execution_count": 6,
   "id": "8f81e89e",
   "metadata": {},
   "outputs": [],
   "source": [
    "def get_at_percentaje(secuencia):\n",
    "    num_a=secuencia.count(\"A\")\n",
    "    num_t=secuencia.count(\"T\")\n",
    "    num_at=num_a+num_t\n",
    "    longitud=len(secuencia)\n",
    "    porcentaje_at=(num_at/longitud)*100\n",
    "    return round(porcentaje_at,2)"
   ]
  },
  {
   "cell_type": "code",
   "execution_count": null,
   "id": "59185732",
   "metadata": {},
   "outputs": [],
   "source": [
    "#misma función definida anteriormente, pero definimos que nos devuelva el resultaod con 2 decimales "
   ]
  },
  {
   "cell_type": "code",
   "execution_count": 7,
   "id": "f7d38b2b",
   "metadata": {},
   "outputs": [
    {
     "data": {
      "text/plain": [
       "61.54"
      ]
     },
     "execution_count": 7,
     "metadata": {},
     "output_type": "execute_result"
    }
   ],
   "source": [
    "get_at_percentaje(dna)"
   ]
  },
  {
   "cell_type": "code",
   "execution_count": 6,
   "id": "b14bcfe3",
   "metadata": {},
   "outputs": [],
   "source": [
    "dna = \"AATGaTGAACGAC\""
   ]
  },
  {
   "cell_type": "code",
   "execution_count": null,
   "id": "e162ea90",
   "metadata": {},
   "outputs": [],
   "source": [
    "#para hacer que la función sea independiente de que la entrada de la variable sea mayúsculas o minúsculas \n",
    "#convertimos la variable de entrada a mayúsculas siempre\n",
    "#por lo tanto el valor de las bases para contar en la secuencia tiene que ser siempre en mayúsculas, por ello,\n",
    "#en nuestra función hemos definido que convierta la secuencia a mayúsculas siempre"
   ]
  },
  {
   "cell_type": "code",
   "execution_count": 7,
   "id": "5389cdc8",
   "metadata": {},
   "outputs": [],
   "source": [
    "def get_at_percentaje(entsecuencia):\n",
    "    secuencia=entsecuencia.upper()\n",
    "    num_a=secuencia.count(\"A\")\n",
    "    num_t=secuencia.count(\"T\")\n",
    "    num_at=num_a+num_t\n",
    "    longitud=len(secuencia)\n",
    "    porcentaje_at=(num_at/longitud)*100\n",
    "    return round(porcentaje_at,2)"
   ]
  },
  {
   "cell_type": "code",
   "execution_count": 8,
   "id": "f523f2b1",
   "metadata": {},
   "outputs": [
    {
     "data": {
      "text/plain": [
       "61.54"
      ]
     },
     "execution_count": 8,
     "metadata": {},
     "output_type": "execute_result"
    }
   ],
   "source": [
    "get_at_percentaje(dna)"
   ]
  },
  {
   "cell_type": "code",
   "execution_count": 10,
   "id": "7240884e",
   "metadata": {},
   "outputs": [],
   "source": [
    "def get_at_percentaje(secuencia):\n",
    "    num_a=secuencia.count(\"A\")\n",
    "    num_t=secuencia.count(\"T\")\n",
    "    num_at=num_a+num_t\n",
    "    longitud=len(secuencia)\n",
    "    porcentaje_at=(num_at/longitud)*100\n",
    "    return round(porcentaje_at,1)"
   ]
  },
  {
   "cell_type": "code",
   "execution_count": 21,
   "id": "3b2015ed",
   "metadata": {},
   "outputs": [
    {
     "data": {
      "text/plain": [
       "61.5"
      ]
     },
     "execution_count": 21,
     "metadata": {},
     "output_type": "execute_result"
    }
   ],
   "source": [
    "get_at_percentaje(dna)"
   ]
  },
  {
   "cell_type": "markdown",
   "id": "2e29859b",
   "metadata": {},
   "source": [
    "##### Testea tu función original con assert"
   ]
  },
  {
   "cell_type": "code",
   "execution_count": 22,
   "id": "7e24aff7",
   "metadata": {},
   "outputs": [
    {
     "ename": "AssertionError",
     "evalue": "",
     "output_type": "error",
     "traceback": [
      "\u001b[0;31m---------------------------------------------------------------------------\u001b[0m",
      "\u001b[0;31mAssertionError\u001b[0m                            Traceback (most recent call last)",
      "Cell \u001b[0;32mIn[22], line 1\u001b[0m\n\u001b[0;32m----> 1\u001b[0m \u001b[38;5;28;01massert\u001b[39;00m get_at_percentaje (\u001b[38;5;124m\"\u001b[39m\u001b[38;5;124mAATG\u001b[39m\u001b[38;5;124m\"\u001b[39m) \u001b[38;5;241m==\u001b[39m\u001b[38;5;241m50.0\u001b[39m\n",
      "\u001b[0;31mAssertionError\u001b[0m: "
     ]
    }
   ],
   "source": [
    "assert get_at_percentaje (\"AATG\") ==50.0"
   ]
  },
  {
   "cell_type": "code",
   "execution_count": 20,
   "id": "2526d739",
   "metadata": {},
   "outputs": [],
   "source": [
    "assert get_at_percentaje(\"ATGC\")== 50.0"
   ]
  },
  {
   "cell_type": "code",
   "execution_count": null,
   "id": "ee2154d6",
   "metadata": {},
   "outputs": [],
   "source": [
    "#es la manera de comprobar que la función que hemos realizado funciona y es el resultado correcto\n",
    "#en este caso la segunda es la que esta bien"
   ]
  }
 ],
 "metadata": {
  "kernelspec": {
   "display_name": "Python 3 (ipykernel)",
   "language": "python",
   "name": "python3"
  },
  "language_info": {
   "codemirror_mode": {
    "name": "ipython",
    "version": 3
   },
   "file_extension": ".py",
   "mimetype": "text/x-python",
   "name": "python",
   "nbconvert_exporter": "python",
   "pygments_lexer": "ipython3",
   "version": "3.11.4"
  }
 },
 "nbformat": 4,
 "nbformat_minor": 5
}
