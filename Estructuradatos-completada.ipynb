{
 "cells": [
  {
   "cell_type": "markdown",
   "id": "57e5a4ba",
   "metadata": {},
   "source": [
    "# PRACTICA Estructuras de Datos\n",
    "\n",
    "### Resuelve las siguientes preguntas empleando lo aprendido con las estructuras de Datos\n",
    "\n",
    "#### Esta práctica se entrega el día 22 de octubre a las 23:59\n",
    "\n",
    "#### Cuenta el 5% de la nota"
   ]
  },
  {
   "cell_type": "markdown",
   "id": "092831f1",
   "metadata": {},
   "source": [
    "Pon el código debajo de cada pregunta. Añade tantas celdas de código como necesites."
   ]
  },
  {
   "cell_type": "markdown",
   "id": "94b6abb8",
   "metadata": {},
   "source": [
    "#### 1.- Escribe una ecuación que emplee multiplicación, división, un exponente, suma y resta y que sea igual a 100.25."
   ]
  },
  {
   "cell_type": "code",
   "execution_count": 10,
   "id": "83423ac9",
   "metadata": {},
   "outputs": [
    {
     "data": {
      "text/plain": [
       "100.25"
      ]
     },
     "execution_count": 10,
     "metadata": {},
     "output_type": "execute_result"
    }
   ],
   "source": [
    "(60+(10**2)/4*7)-134.75"
   ]
  },
  {
   "cell_type": "markdown",
   "id": "95ec00dc",
   "metadata": {},
   "source": [
    "#### 2.- ¿Qué harías para obtener la raíz cuadrada de 100?"
   ]
  },
  {
   "cell_type": "code",
   "execution_count": 5,
   "id": "bc0163d7",
   "metadata": {},
   "outputs": [
    {
     "data": {
      "text/plain": [
       "10.0"
      ]
     },
     "execution_count": 5,
     "metadata": {},
     "output_type": "execute_result"
    }
   ],
   "source": [
    "100**0.5"
   ]
  },
  {
   "cell_type": "markdown",
   "id": "95232620",
   "metadata": {},
   "source": [
    "#### 3.- ¿Y el cuadrado de 100?"
   ]
  },
  {
   "cell_type": "code",
   "execution_count": 6,
   "id": "8c57ca47",
   "metadata": {},
   "outputs": [
    {
     "data": {
      "text/plain": [
       "10000"
      ]
     },
     "execution_count": 6,
     "metadata": {},
     "output_type": "execute_result"
    }
   ],
   "source": [
    "100**2"
   ]
  },
  {
   "cell_type": "markdown",
   "id": "7fc5bfae",
   "metadata": {},
   "source": [
    "#### 4.- Tenemos la string 'hello'.\n",
    "#### Primero devuelve la letra 'e'\n",
    "#### Luego dale la vuelta a la string \n",
    "#### Después usa dos métodos para devolver la letra 'o'"
   ]
  },
  {
   "cell_type": "code",
   "execution_count": 7,
   "id": "a6d0eb90",
   "metadata": {},
   "outputs": [],
   "source": [
    "s = 'hello'"
   ]
  },
  {
   "cell_type": "code",
   "execution_count": 8,
   "id": "549c6d51",
   "metadata": {},
   "outputs": [
    {
     "data": {
      "text/plain": [
       "'e'"
      ]
     },
     "execution_count": 8,
     "metadata": {},
     "output_type": "execute_result"
    }
   ],
   "source": [
    "s[1] "
   ]
  },
  {
   "cell_type": "code",
   "execution_count": 58,
   "id": "a14c6201",
   "metadata": {},
   "outputs": [],
   "source": [
    "#string y el 1 significa la posición de la letra que queremos extraer"
   ]
  },
  {
   "cell_type": "code",
   "execution_count": 59,
   "id": "a5efb2d2",
   "metadata": {},
   "outputs": [
    {
     "data": {
      "text/plain": [
       "'olleh'"
      ]
     },
     "execution_count": 59,
     "metadata": {},
     "output_type": "execute_result"
    }
   ],
   "source": [
    "s[::-1]"
   ]
  },
  {
   "cell_type": "code",
   "execution_count": null,
   "id": "efb97f7c",
   "metadata": {},
   "outputs": [],
   "source": [
    "#los dos puntos nos crean un rango de datos que qeremos que nos extraiga "
   ]
  },
  {
   "cell_type": "code",
   "execution_count": 12,
   "id": "05e4e58a",
   "metadata": {},
   "outputs": [
    {
     "data": {
      "text/plain": [
       "'o'"
      ]
     },
     "execution_count": 12,
     "metadata": {},
     "output_type": "execute_result"
    }
   ],
   "source": [
    "s[4]"
   ]
  },
  {
   "cell_type": "markdown",
   "id": "0febc918",
   "metadata": {},
   "source": [
    "#### 5.- Crear una lista que contenga esto [0,0,0] de dos formas distintas"
   ]
  },
  {
   "cell_type": "code",
   "execution_count": 20,
   "id": "2bd51f36",
   "metadata": {},
   "outputs": [
    {
     "data": {
      "text/plain": [
       "[0, 0, 0]"
      ]
     },
     "execution_count": 20,
     "metadata": {},
     "output_type": "execute_result"
    }
   ],
   "source": [
    "lista=[0,0,0]\n",
    "lista"
   ]
  },
  {
   "cell_type": "code",
   "execution_count": 23,
   "id": "18078ef7",
   "metadata": {},
   "outputs": [
    {
     "data": {
      "text/plain": [
       "[0, 0, 0]"
      ]
     },
     "execution_count": 23,
     "metadata": {},
     "output_type": "execute_result"
    }
   ],
   "source": [
    "lista2=[0]*3\n",
    "lista2"
   ]
  },
  {
   "cell_type": "code",
   "execution_count": 24,
   "id": "981d852f",
   "metadata": {},
   "outputs": [
    {
     "data": {
      "text/plain": [
       "list"
      ]
     },
     "execution_count": 24,
     "metadata": {},
     "output_type": "execute_result"
    }
   ],
   "source": [
    "type(lista2)"
   ]
  },
  {
   "cell_type": "markdown",
   "id": "80e1a951",
   "metadata": {},
   "source": [
    "#### 6.- Reasigna 'hello' en la lista a continuación para que diga 'goodbye'"
   ]
  },
  {
   "cell_type": "code",
   "execution_count": 25,
   "id": "20d1ebdf",
   "metadata": {},
   "outputs": [],
   "source": [
    "lista = [1,2,[3,4,'hello']]"
   ]
  },
  {
   "cell_type": "code",
   "execution_count": 27,
   "id": "824271bc",
   "metadata": {},
   "outputs": [
    {
     "data": {
      "text/plain": [
       "'hello'"
      ]
     },
     "execution_count": 27,
     "metadata": {},
     "output_type": "execute_result"
    }
   ],
   "source": [
    "lista[-1][-1]  "
   ]
  },
  {
   "cell_type": "code",
   "execution_count": 60,
   "id": "9adc8906",
   "metadata": {},
   "outputs": [],
   "source": [
    "#para acceder de atrá a adelante en la lista "
   ]
  },
  {
   "cell_type": "code",
   "execution_count": 28,
   "id": "6e52c74a",
   "metadata": {},
   "outputs": [],
   "source": [
    "lista[2][2]=\"goodbye\""
   ]
  },
  {
   "cell_type": "code",
   "execution_count": 29,
   "id": "e4309adf",
   "metadata": {},
   "outputs": [
    {
     "data": {
      "text/plain": [
       "[1, 2, [3, 4, 'goodbye']]"
      ]
     },
     "execution_count": 29,
     "metadata": {},
     "output_type": "execute_result"
    }
   ],
   "source": [
    "lista"
   ]
  },
  {
   "cell_type": "code",
   "execution_count": null,
   "id": "b4e6e915",
   "metadata": {},
   "outputs": [],
   "source": [
    "#para acceder de adelante a atrás en la lista "
   ]
  },
  {
   "cell_type": "markdown",
   "id": "77e38490",
   "metadata": {},
   "source": [
    "#### 7.- Ordena la siguiente lista"
   ]
  },
  {
   "cell_type": "code",
   "execution_count": 30,
   "id": "bc957d55",
   "metadata": {},
   "outputs": [],
   "source": [
    "listaSinOrdenar = [5,3,4,6,1]"
   ]
  },
  {
   "cell_type": "code",
   "execution_count": 31,
   "id": "788d9b38",
   "metadata": {},
   "outputs": [],
   "source": [
    "listaSinOrdenar.sort() "
   ]
  },
  {
   "cell_type": "code",
   "execution_count": null,
   "id": "ff1f7910",
   "metadata": {},
   "outputs": [],
   "source": [
    "# sort sirve para ordenar la lista"
   ]
  },
  {
   "cell_type": "code",
   "execution_count": 32,
   "id": "3ceffc99",
   "metadata": {},
   "outputs": [
    {
     "data": {
      "text/plain": [
       "[1, 3, 4, 5, 6]"
      ]
     },
     "execution_count": 32,
     "metadata": {},
     "output_type": "execute_result"
    }
   ],
   "source": [
    "listaSinOrdenar"
   ]
  },
  {
   "cell_type": "markdown",
   "id": "0cc790ac",
   "metadata": {},
   "source": [
    "#### 8.- En los siguientes diccionarios, extrae el valor de 'hello'"
   ]
  },
  {
   "cell_type": "code",
   "execution_count": 33,
   "id": "c390a0bb",
   "metadata": {},
   "outputs": [],
   "source": [
    "f = {'k1':{'k2':'hello'}}"
   ]
  },
  {
   "cell_type": "code",
   "execution_count": 37,
   "id": "41e82fd5",
   "metadata": {},
   "outputs": [
    {
     "data": {
      "text/plain": [
       "'hello'"
      ]
     },
     "execution_count": 37,
     "metadata": {},
     "output_type": "execute_result"
    }
   ],
   "source": [
    "f['k1']['k2']  "
   ]
  },
  {
   "cell_type": "code",
   "execution_count": null,
   "id": "0f19d555",
   "metadata": {},
   "outputs": [],
   "source": [
    "#los diccionarios empiezan con corchetes"
   ]
  },
  {
   "cell_type": "code",
   "execution_count": 34,
   "id": "c0244e1f",
   "metadata": {},
   "outputs": [],
   "source": [
    "d = {'key1':'hello'}"
   ]
  },
  {
   "cell_type": "code",
   "execution_count": 35,
   "id": "9ede68db",
   "metadata": {},
   "outputs": [
    {
     "data": {
      "text/plain": [
       "'hello'"
      ]
     },
     "execution_count": 35,
     "metadata": {},
     "output_type": "execute_result"
    }
   ],
   "source": [
    "d['key1']"
   ]
  },
  {
   "cell_type": "code",
   "execution_count": 38,
   "id": "344d780b",
   "metadata": {},
   "outputs": [],
   "source": [
    "g = {'k1':[{'o1':['valor escondido',['hello']]}]}"
   ]
  },
  {
   "cell_type": "code",
   "execution_count": 39,
   "id": "e07e4780",
   "metadata": {},
   "outputs": [
    {
     "data": {
      "text/plain": [
       "[{'o1': ['valor escondido', ['hello']]}]"
      ]
     },
     "execution_count": 39,
     "metadata": {},
     "output_type": "execute_result"
    }
   ],
   "source": [
    "g['k1'] "
   ]
  },
  {
   "cell_type": "code",
   "execution_count": null,
   "id": "b4f9382e",
   "metadata": {},
   "outputs": [],
   "source": [
    "#nos metemos en el primer elemento del diccionario\n",
    "#el valor escodido hace referencia a :[{, el corchete hace referencia a un valor dentro dle diccionario "
   ]
  },
  {
   "cell_type": "code",
   "execution_count": 40,
   "id": "d533b07c",
   "metadata": {},
   "outputs": [
    {
     "data": {
      "text/plain": [
       "['valor escondido', ['hello']]"
      ]
     },
     "execution_count": 40,
     "metadata": {},
     "output_type": "execute_result"
    }
   ],
   "source": [
    "g['k1'][0]['o1'] "
   ]
  },
  {
   "cell_type": "code",
   "execution_count": null,
   "id": "54424105",
   "metadata": {},
   "outputs": [],
   "source": [
    "#añadimos el 0 en medio ya que el diccionario se abre con una lista que contiene un único valor, empieza por : y corchetes"
   ]
  },
  {
   "cell_type": "code",
   "execution_count": 41,
   "id": "703d3e2c",
   "metadata": {},
   "outputs": [
    {
     "data": {
      "text/plain": [
       "['hello']"
      ]
     },
     "execution_count": 41,
     "metadata": {},
     "output_type": "execute_result"
    }
   ],
   "source": [
    "g['k1'][0]['o1'][1] "
   ]
  },
  {
   "cell_type": "code",
   "execution_count": null,
   "id": "5eb9f894",
   "metadata": {},
   "outputs": [],
   "source": [
    "#nos metemos dentro del siguiente diccionario que se encuentra dentro del valor de la lista"
   ]
  },
  {
   "cell_type": "code",
   "execution_count": 42,
   "id": "d7bc088f",
   "metadata": {},
   "outputs": [
    {
     "data": {
      "text/plain": [
       "'hello'"
      ]
     },
     "execution_count": 42,
     "metadata": {},
     "output_type": "execute_result"
    }
   ],
   "source": [
    "g['k1'][0]['o1'][1][0]  "
   ]
  },
  {
   "cell_type": "code",
   "execution_count": null,
   "id": "f585f3d1",
   "metadata": {},
   "outputs": [],
   "source": [
    "#le eliminamos los corchetes"
   ]
  },
  {
   "cell_type": "code",
   "execution_count": 43,
   "id": "663f9ffd",
   "metadata": {},
   "outputs": [],
   "source": [
    "h = {'k1':[1,2,{'k2':['complicado',{'dificil':[1,2,['hello']]}]}]}"
   ]
  },
  {
   "cell_type": "code",
   "execution_count": 44,
   "id": "16c9979d",
   "metadata": {},
   "outputs": [
    {
     "data": {
      "text/plain": [
       "[1, 2, {'k2': ['complicado', {'dificil': [1, 2, ['hello']]}]}]"
      ]
     },
     "execution_count": 44,
     "metadata": {},
     "output_type": "execute_result"
    }
   ],
   "source": [
    "h['k1']"
   ]
  },
  {
   "cell_type": "code",
   "execution_count": 46,
   "id": "8bb82aec",
   "metadata": {},
   "outputs": [
    {
     "data": {
      "text/plain": [
       "'hello'"
      ]
     },
     "execution_count": 46,
     "metadata": {},
     "output_type": "execute_result"
    }
   ],
   "source": [
    "h['k1'][-1]['k2'][1]['dificil'][2][0]"
   ]
  },
  {
   "cell_type": "markdown",
   "id": "7692eea8",
   "metadata": {},
   "source": [
    "#### 9.- Crea una tupla"
   ]
  },
  {
   "cell_type": "code",
   "execution_count": 47,
   "id": "ebf8c41e",
   "metadata": {},
   "outputs": [
    {
     "data": {
      "text/plain": [
       "(5, 6, 3, 4)"
      ]
     },
     "execution_count": 47,
     "metadata": {},
     "output_type": "execute_result"
    }
   ],
   "source": [
    "t=(5,6,3,4)\n",
    "t  "
   ]
  },
  {
   "cell_type": "code",
   "execution_count": null,
   "id": "b90d1f75",
   "metadata": {},
   "outputs": [],
   "source": [
    "#no es una lista, es una tupla, ya que empieza con parentesis, y sus objetos en el interior no se pueden modificar"
   ]
  },
  {
   "cell_type": "markdown",
   "id": "6231d723",
   "metadata": {},
   "source": [
    "#### 10.- Emplea los sets para encontrar los valores únicos de esta lista"
   ]
  },
  {
   "cell_type": "code",
   "execution_count": 48,
   "id": "a7cbba3a",
   "metadata": {},
   "outputs": [],
   "source": [
    "listaDuplicada = [1,2,2,33,4,4,11,22,3,3,2]"
   ]
  },
  {
   "cell_type": "code",
   "execution_count": 49,
   "id": "1cfc1781",
   "metadata": {},
   "outputs": [
    {
     "data": {
      "text/plain": [
       "{1, 2, 3, 4, 11, 22, 33}"
      ]
     },
     "execution_count": 49,
     "metadata": {},
     "output_type": "execute_result"
    }
   ],
   "source": [
    "set(listaDuplicada)  "
   ]
  },
  {
   "cell_type": "code",
   "execution_count": null,
   "id": "c6e27a48",
   "metadata": {},
   "outputs": [],
   "source": [
    "#es una lista que almacena elementos únicos, es decir extraer los valores no repetidos"
   ]
  },
  {
   "cell_type": "code",
   "execution_count": 50,
   "id": "274f7c1e",
   "metadata": {},
   "outputs": [
    {
     "data": {
      "text/plain": [
       "[1, 2, 2, 33, 4, 4, 11, 22, 3, 3, 2]"
      ]
     },
     "execution_count": 50,
     "metadata": {},
     "output_type": "execute_result"
    }
   ],
   "source": [
    "listaDuplicada  "
   ]
  },
  {
   "cell_type": "code",
   "execution_count": null,
   "id": "0459675c",
   "metadata": {},
   "outputs": [],
   "source": [
    "#la función no se ha guardado dentro de la lista"
   ]
  },
  {
   "cell_type": "code",
   "execution_count": 51,
   "id": "04094ea2",
   "metadata": {},
   "outputs": [],
   "source": [
    "unicos=set(listaDuplicada)"
   ]
  },
  {
   "cell_type": "code",
   "execution_count": 52,
   "id": "3cb78675",
   "metadata": {},
   "outputs": [
    {
     "data": {
      "text/plain": [
       "{1, 2, 3, 4, 11, 22, 33}"
      ]
     },
     "execution_count": 52,
     "metadata": {},
     "output_type": "execute_result"
    }
   ],
   "source": [
    "unicos  "
   ]
  },
  {
   "cell_type": "code",
   "execution_count": null,
   "id": "7e513194",
   "metadata": {},
   "outputs": [],
   "source": [
    "#Esto guarda el set realizado dentro de la lista"
   ]
  },
  {
   "cell_type": "markdown",
   "id": "9b217cfc",
   "metadata": {},
   "source": [
    "#### 11.- Haz las siguientes comparaciones:\n",
    "#### Dos mayor que tres\n",
    "#### Tres igual que 2\n",
    "#### La raíz cuadrada de cuatro no es igual a 2"
   ]
  },
  {
   "cell_type": "code",
   "execution_count": 53,
   "id": "8b8a5e24",
   "metadata": {},
   "outputs": [
    {
     "data": {
      "text/plain": [
       "False"
      ]
     },
     "execution_count": 53,
     "metadata": {},
     "output_type": "execute_result"
    }
   ],
   "source": [
    "2>3"
   ]
  },
  {
   "cell_type": "code",
   "execution_count": 54,
   "id": "b9fb670b",
   "metadata": {},
   "outputs": [
    {
     "data": {
      "text/plain": [
       "False"
      ]
     },
     "execution_count": 54,
     "metadata": {},
     "output_type": "execute_result"
    }
   ],
   "source": [
    "3==2  "
   ]
  },
  {
   "cell_type": "code",
   "execution_count": null,
   "id": "d9a88249",
   "metadata": {},
   "outputs": [],
   "source": [
    "# si se pone 1 = estas afirmando que tu variable es igual a 2"
   ]
  },
  {
   "cell_type": "code",
   "execution_count": 55,
   "id": "ffffc38f",
   "metadata": {},
   "outputs": [
    {
     "data": {
      "text/plain": [
       "True"
      ]
     },
     "execution_count": 55,
     "metadata": {},
     "output_type": "execute_result"
    }
   ],
   "source": [
    "3 != 2  "
   ]
  },
  {
   "cell_type": "code",
   "execution_count": null,
   "id": "dbbb7227",
   "metadata": {},
   "outputs": [],
   "source": [
    "#diferente de"
   ]
  },
  {
   "cell_type": "code",
   "execution_count": 56,
   "id": "b9446825",
   "metadata": {},
   "outputs": [
    {
     "data": {
      "text/plain": [
       "False"
      ]
     },
     "execution_count": 56,
     "metadata": {},
     "output_type": "execute_result"
    }
   ],
   "source": [
    "3 <= 2  "
   ]
  },
  {
   "cell_type": "code",
   "execution_count": null,
   "id": "9677e08e",
   "metadata": {},
   "outputs": [],
   "source": [
    "# menor o mayor o igual que"
   ]
  },
  {
   "cell_type": "code",
   "execution_count": 57,
   "id": "3dcb4a72",
   "metadata": {},
   "outputs": [
    {
     "data": {
      "text/plain": [
       "False"
      ]
     },
     "execution_count": 57,
     "metadata": {},
     "output_type": "execute_result"
    }
   ],
   "source": [
    "4**0.5 != 2 "
   ]
  }
 ],
 "metadata": {
  "kernelspec": {
   "display_name": "Python 3 (ipykernel)",
   "language": "python",
   "name": "python3"
  },
  "language_info": {
   "codemirror_mode": {
    "name": "ipython",
    "version": 3
   },
   "file_extension": ".py",
   "mimetype": "text/x-python",
   "name": "python",
   "nbconvert_exporter": "python",
   "pygments_lexer": "ipython3",
   "version": "3.11.4"
  }
 },
 "nbformat": 4,
 "nbformat_minor": 5
}
