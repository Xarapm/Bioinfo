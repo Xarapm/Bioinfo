{
 "cells": [
  {
   "cell_type": "markdown",
   "metadata": {},
   "source": [
    "# PRACTICA Expresiones Regulares\n",
    "\n",
    "#### Esta práctica se entrega el día 22 de Octubre a las 23:59\n",
    "#### Cuenta el 5% de la nota\n",
    "\n",
    "#### De la lista de accessions que se proporciona obtén lo siguiente:\n",
    "1. Los que tengan el número 5\n",
    "2. Los que tengan la letra 'd' o la 'e'\n",
    "3. Los que tengan las letras 'd' y 'e' en ese orden\n",
    "4. Los que tengan las letras 'd' y 'e' en ese orden con una letra cualquiera en medio\n",
    "5. Los que tengan ambas letras 'd' y 'e' en cualquier orden\n",
    "6. Los que empiezan por 'x' o por 'y'\n",
    "7. Los que empiezan por 'x' o 'y' y terminan por 'e'\n",
    "8. Los que tienen tres o más dígitos seguidos\n",
    "9. Los que terminan con 'd' seguidos de 'a' o 'r' o 'p'"
   ]
  },
  {
   "cell_type": "code",
   "execution_count": 4,
   "metadata": {},
   "outputs": [],
   "source": [
    "import re"
   ]
  },
  {
   "cell_type": "code",
   "execution_count": 2,
   "metadata": {},
   "outputs": [],
   "source": [
    "accs = ['xkn59438', 'yhdck2', 'eihd39d9', 'chdsye847', 'hedle3455', 'xjhd53e', '45da', 'de37dp']"
   ]
  },
  {
   "cell_type": "code",
   "execution_count": 6,
   "metadata": {},
   "outputs": [
    {
     "name": "stdout",
     "output_type": "stream",
     "text": [
      "xkn59438\n",
      "hedle3455\n",
      "xjhd53e\n",
      "45da\n"
     ]
    }
   ],
   "source": [
    "for elemento in accs:\n",
    "    if re.search(r\"5\",elemento): \n",
    "        print(elemento)"
   ]
  },
  {
   "cell_type": "code",
   "execution_count": 8,
   "metadata": {},
   "outputs": [],
   "source": [
    "# el bucle que hemos hecho significa: para cada elemento de la lista, si tienen el número 5 --> imprímemelo "
   ]
  },
  {
   "cell_type": "code",
   "execution_count": 9,
   "metadata": {},
   "outputs": [],
   "source": [
    "#re.search para indicar que estamos expresando una expresión regular \n",
    "#python lee las listan por elemnetos no de golpe, hay que ir elemento a elemnto para que nos seleccione lo que queremos\n",
    "#los bucles se declaran con dos puntos "
   ]
  },
  {
   "cell_type": "code",
   "execution_count": 11,
   "metadata": {},
   "outputs": [
    {
     "name": "stdout",
     "output_type": "stream",
     "text": [
      "contains d or e\n",
      "\tyhdck2\n",
      "\teihd39d9\n",
      "\tchdsye847\n",
      "\thedle3455\n",
      "\txjhd53e\n",
      "\t45da\n",
      "\tde37dp\n"
     ]
    }
   ],
   "source": [
    "print (\"contains d or e\")\n",
    "for elemento in accs: \n",
    "    if re.search (r\"d\",elemento) or re.search(r\"e\",elemento):\n",
    "        print(\"\\t\"+elemento)"
   ]
  },
  {
   "cell_type": "code",
   "execution_count": 12,
   "metadata": {},
   "outputs": [],
   "source": [
    "#el bucle significa: para cada elemento en la lista, si tiene d o r --> imprímemelo \n",
    "#el tabulador te pone los resultados a la misma altura del print "
   ]
  },
  {
   "cell_type": "code",
   "execution_count": 13,
   "metadata": {},
   "outputs": [
    {
     "name": "stdout",
     "output_type": "stream",
     "text": [
      "contains d and e in that order\n",
      "chdsye847\n",
      "hedle3455\n",
      "xjhd53e\n",
      "de37dp\n"
     ]
    }
   ],
   "source": [
    "print(\"contains d and e in that order\")\n",
    "for elemento in accs: \n",
    "    if re.search (r\"d.*e\",elemento):\n",
    "        print(elemento)"
   ]
  },
  {
   "cell_type": "code",
   "execution_count": 14,
   "metadata": {},
   "outputs": [],
   "source": [
    "#el bucle significa: para cada elemento que tenga una d y una e (EN ESE ORDEN)--> imprímemelo"
   ]
  },
  {
   "cell_type": "code",
   "execution_count": 15,
   "metadata": {},
   "outputs": [
    {
     "name": "stdout",
     "output_type": "stream",
     "text": [
      "caontains d and e separeated by a single letter\n",
      "hedle3455\n"
     ]
    }
   ],
   "source": [
    "print(\"contains d and e separeated by a single letter\")\n",
    "for elemento in accs: \n",
    "    if re.search(r\"(d.e)\", elemento):\n",
    "        print(elemento)"
   ]
  },
  {
   "cell_type": "code",
   "execution_count": 16,
   "metadata": {},
   "outputs": [],
   "source": [
    "#el bucle significa: para cada elemento que contenga d y e (con una letra en medio) --> imprímemelo \n",
    "# el punto significa cualquier caracter que haya en medio de las dos letras \n",
    "# poner en lugar del punto [a-z]--> significa que te incluya elemento con cualquier LETRA en medio (el punto incluye números o letras)"
   ]
  },
  {
   "cell_type": "code",
   "execution_count": 17,
   "metadata": {},
   "outputs": [
    {
     "name": "stdout",
     "output_type": "stream",
     "text": [
      "contains d and e in any order\n",
      "hedle3455\n"
     ]
    }
   ],
   "source": [
    "print(\"contains d and e in any order\")\n",
    "for elemento in accs: \n",
    "    if re.search(r\"d.e\", elemento) or re.search(r\"e.d\",elemento):\n",
    "        print(elemento)"
   ]
  },
  {
   "cell_type": "code",
   "execution_count": 18,
   "metadata": {},
   "outputs": [],
   "source": [
    "# el bucle significa: para todos los elemento que tengan d y e en cualquier orden, o primero la d, o primero la e --> imprímemelo "
   ]
  },
  {
   "cell_type": "code",
   "execution_count": 19,
   "metadata": {},
   "outputs": [
    {
     "name": "stdout",
     "output_type": "stream",
     "text": [
      "start with either x or y\n",
      "xkn59438\n",
      "yhdck2\n",
      "xjhd53e\n"
     ]
    }
   ],
   "source": [
    "print(\"start with either x or y\")\n",
    "for elemento in accs: \n",
    "    if re.search(r\"^(x|y)\", elemento):\n",
    "        print(elemento)"
   ]
  },
  {
   "cell_type": "code",
   "execution_count": 20,
   "metadata": {},
   "outputs": [],
   "source": [
    "# el bucle significa: cualquier elemento que empiezo con x o y --> imprímemelo \n",
    "# el ^ significa que OBLIGATORIAMENTE empieze por ese caracter que hemos puesto (inicio de línea)"
   ]
  },
  {
   "cell_type": "code",
   "execution_count": 21,
   "metadata": {},
   "outputs": [
    {
     "name": "stdout",
     "output_type": "stream",
     "text": [
      "start with either x or y and ends with e\n",
      "xjhd53e\n"
     ]
    }
   ],
   "source": [
    "print(\"start with either x or y and ends with e\")\n",
    "for elemento in accs: \n",
    "    if re.search(r\"^(x|y).*e$\", elemento):\n",
    "        print(elemento)"
   ]
  },
  {
   "cell_type": "code",
   "execution_count": 22,
   "metadata": {},
   "outputs": [],
   "source": [
    "#el bucle significa: cualquier elemento que empiece por x o y, que termine también por e --> imprímemelo \n",
    "#el $ significa que acabe en ese caracter (final de linea)"
   ]
  },
  {
   "cell_type": "code",
   "execution_count": 23,
   "metadata": {},
   "outputs": [
    {
     "name": "stdout",
     "output_type": "stream",
     "text": [
      "contains three or more numbers in a row\n",
      "xkn59438\n",
      "chdsye847\n",
      "hedle3455\n"
     ]
    }
   ],
   "source": [
    "print(\"contains three or more numbers in a row\")\n",
    "for elemento in accs: \n",
    "    if re.search(r\"\\d{3,}\", elemento):\n",
    "        print(elemento)"
   ]
  },
  {
   "cell_type": "code",
   "execution_count": 24,
   "metadata": {},
   "outputs": [],
   "source": [
    "#el bucle significa: todo elemento que contenga 3 números seguidos --> imprímemelo \n",
    "#la llaves indican las repeticiones que queremos que contengan los elementos --> que contengan al menos 3 números "
   ]
  },
  {
   "cell_type": "code",
   "execution_count": 25,
   "metadata": {},
   "outputs": [
    {
     "name": "stdout",
     "output_type": "stream",
     "text": [
      "ends with d followed by either a, r or p\n",
      "45da\n",
      "de37dp\n"
     ]
    }
   ],
   "source": [
    "print(\"ends with d followed by either a, r or p\")\n",
    "for elemento in accs: \n",
    "    if re.search(r\"d[arp]$\", elemento):\n",
    "        print(elemento)"
   ]
  },
  {
   "cell_type": "code",
   "execution_count": null,
   "metadata": {},
   "outputs": [],
   "source": [
    "#el bucle significa: cualquier elemento que acabe con d, seguido de a-r-p (cualquiera de esas letras)\n",
    "#el dolas significa el final de la línea"
   ]
  }
 ],
 "metadata": {
  "kernelspec": {
   "display_name": "Python 3 (ipykernel)",
   "language": "python",
   "name": "python3"
  },
  "language_info": {
   "codemirror_mode": {
    "name": "ipython",
    "version": 3
   },
   "file_extension": ".py",
   "mimetype": "text/x-python",
   "name": "python",
   "nbconvert_exporter": "python",
   "pygments_lexer": "ipython3",
   "version": "3.11.4"
  }
 },
 "nbformat": 4,
 "nbformat_minor": 4
}
