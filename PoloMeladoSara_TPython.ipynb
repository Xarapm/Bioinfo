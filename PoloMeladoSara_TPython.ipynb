{
 "cells": [
  {
   "cell_type": "markdown",
   "metadata": {},
   "source": [
    "# TRABAJO DE PYTHON\n",
    "\n",
    "### Este trabajo cuenta el 30% de la nota. La entrega será el 5 de Noviembre a las 23:59.\n",
    "\n",
    "### Resuelve los siguientes ejercicios en Python sin usar expresiones regulares\n",
    "\n",
    "#### Utiliza tantas celdas de código como necesites\n",
    "\n",
    "##\n",
    "\n",
    "\n",
    "\n",
    "\n",
    "\n",
    "\n",
    "\n"
   ]
  },
  {
   "cell_type": "markdown",
   "metadata": {},
   "source": [
    "### 1.- BUSCA LA SECUENCIA COMPLEMENTARIA\n",
    "#### Devuelve la secuencia complementaria de la siguiente secuencia de ADN"
   ]
  },
  {
   "cell_type": "code",
   "execution_count": 65,
   "metadata": {},
   "outputs": [],
   "source": [
    "my_dna = \"ACTGATCGATTACGTATAGTATTTGCTATCATACATATATATCGATGCGTTCAT\""
   ]
  },
  {
   "cell_type": "code",
   "execution_count": 66,
   "metadata": {},
   "outputs": [],
   "source": [
    "def sec_complementaria(my_dna): \n",
    "    complementaria = {'A':'T','T':'A','C':'G','G':'C'} \n",
    "    complementary = ''\n",
    "    for nucleotido in my_dna: \n",
    "        if nucleotido in complementaria: \n",
    "            complementary += complementaria[nucleotido]\n",
    "        else: \n",
    "            complementary += nucleotido\n",
    "    return complementary"
   ]
  },
  {
   "cell_type": "code",
   "execution_count": 67,
   "metadata": {},
   "outputs": [
    {
     "name": "stdout",
     "output_type": "stream",
     "text": [
      "TGACTAGCTAATGCATATCATAAACGATAGTATGTATATATAGCTACGCAAGTA\n"
     ]
    }
   ],
   "source": [
    "secuencia_comp = sec_complementaria(my_dna)\n",
    "print(secuencia_comp)"
   ]
  },
  {
   "cell_type": "code",
   "execution_count": null,
   "metadata": {},
   "outputs": [],
   "source": [
    "#definimos un función en la que incluimos un diccionario con cada base complementaria\n",
    "#de esta forma, cuando encuentre una base que también este en el diccionario la sustituirá por su complementaria "
   ]
  },
  {
   "cell_type": "markdown",
   "metadata": {},
   "source": [
    "##\n",
    "### 2.- FRAGMENTOS DE RESTRICCION\n",
    "#### Obtén los fragmentos de restricción de EcoRI, que tiene un sitio de corte en G*AATTC (la posición de corte se indica por el *).\n",
    "#### No uses expresiones regulares. \n",
    "#### Pista: utiliza la función find()"
   ]
  },
  {
   "cell_type": "code",
   "execution_count": 6,
   "metadata": {
    "scrolled": true
   },
   "outputs": [],
   "source": [
    "my_dna = \"ACTGATCGATTACGTATAGTATTTGCTATGAATTCCATACATATATATCGATGCGTTCAT\"\n",
    "sitio_de_corte = \"GAATTC\""
   ]
  },
  {
   "cell_type": "code",
   "execution_count": 7,
   "metadata": {},
   "outputs": [],
   "source": [
    "posición_corte = my_dna.find(sitio_de_corte)"
   ]
  },
  {
   "cell_type": "code",
   "execution_count": 9,
   "metadata": {},
   "outputs": [
    {
     "name": "stdout",
     "output_type": "stream",
     "text": [
      "Primer fragmento ACTGATCGATTACGTATAGTATTTGCTATGAATTC\n",
      "Segundo fragmento CATACATATATATCGATGCGTTCAT\n"
     ]
    }
   ],
   "source": [
    "if posición_corte != -1:\n",
    "    Fragmento1 = my_dna[:posición_corte+len(sitio_de_corte)]\n",
    "    Fragmento2 = my_dna [posición_corte+len(sitio_de_corte):]\n",
    "    print(\"Primer fragmento\", Fragmento1)\n",
    "    print(\"Segundo fragmento\", Fragmento2)\n",
    "else: \n",
    "    print(\"el sitio de corte no está en la seceuncia\")"
   ]
  },
  {
   "cell_type": "code",
   "execution_count": null,
   "metadata": {},
   "outputs": [],
   "source": [
    "#definimos el sitio de corte que queremos buscar \n",
    "#usamos la función find() para encontrar el sitio de corte que hemos definido en la secuencia \n",
    "#usamos if para definir los fragmentos que separan el sitio de corte \n",
    "#usamos else para, si el sitio de corte no está, que devuelva un mensaje que indique que no está "
   ]
  },
  {
   "cell_type": "markdown",
   "metadata": {},
   "source": [
    "##\n",
    "### 3.- ENCUENTRA LOS EXONES\n",
    "#### Encuentra los exones en la siguiente secuencia\n",
    "1. El primer exón va de la primera base a la base 63 (empieza a contar desde 0)\n",
    "2. El segundo exón va de la base 91 (contando desde 0) hasta el final\n",
    "3. Calcula el porcentaje de secuencia codificante\n",
    "4. Imprime en pantalla la secuencia original con los exones en mayúsculas y los intrones en minúsculas"
   ]
  },
  {
   "cell_type": "code",
   "execution_count": 1,
   "metadata": {},
   "outputs": [],
   "source": [
    "genomic_dna = \"ATCGATCGATCGATCGACTGACTAGTCATAGCTATGCATGTAGCTACTCGATCGATCGATCGATCGATCGATCGATCGATCGATCATGCTATCATCGATCGATATCGATGCATCGACTACTAT\""
   ]
  },
  {
   "cell_type": "code",
   "execution_count": 8,
   "metadata": {},
   "outputs": [],
   "source": [
    "exon1 = genomic_dna[0:63]\n",
    "exon2 = genomic_dna[91:len(genomic_dna)]\n",
    "intron = genomic_dna[63:91]"
   ]
  },
  {
   "cell_type": "code",
   "execution_count": null,
   "metadata": {},
   "outputs": [],
   "source": [
    "#definimos las posiciones en las que se encuentran los exones e intrones "
   ]
  },
  {
   "cell_type": "code",
   "execution_count": 9,
   "metadata": {},
   "outputs": [],
   "source": [
    "sec_codificante = exon1+exon2\n",
    "longitud_codificante = len(sec_codificante)\n",
    "longitud_total = len(genomic_dna)\n",
    "porcentaje_codificante = (longitud_codificante/longitud_total)*100"
   ]
  },
  {
   "cell_type": "code",
   "execution_count": 10,
   "metadata": {},
   "outputs": [
    {
     "name": "stdout",
     "output_type": "stream",
     "text": [
      "Porcentaje sec codificante 77.24 %\n"
     ]
    }
   ],
   "source": [
    "print(\"Porcentaje sec codificante\", round(porcentaje_codificante,2), \"%\")"
   ]
  },
  {
   "cell_type": "code",
   "execution_count": null,
   "metadata": {},
   "outputs": [],
   "source": [
    "#para calcular el porcentaje debemos conocer el valor de longitud de la secuencia codificante y la total\n",
    "#definimos la longitud de la secuencia codificante sumando los dos exones únicamente \n",
    "#usamos len() para conocer la longitud total\n",
    "#usamos round para redondear a dos decimales el resultado"
   ]
  },
  {
   "cell_type": "code",
   "execution_count": 35,
   "metadata": {},
   "outputs": [
    {
     "name": "stdout",
     "output_type": "stream",
     "text": [
      "ATCGATCGATCGATCGACTGACTAGTCATAGCTATGCATGTAGCTACTCGATCGATCGATCGAtcgatcgatcgatcgatcgatcatgctaTCATCGATCGATATCGATGCATCGACTACTAT\n"
     ]
    }
   ],
   "source": [
    "sec_cambiada = exon1.upper() + intron.lower() + exon2.upper()\n",
    "print(sec_cambiada)"
   ]
  },
  {
   "cell_type": "code",
   "execution_count": null,
   "metadata": {},
   "outputs": [],
   "source": [
    "#utilizamos la función.upper para dejar en mayúsculas las secuencias de los exones \n",
    "#utilizamos la función.lower para dejar en minúsculas la secuencia del intrón "
   ]
  },
  {
   "cell_type": "markdown",
   "metadata": {},
   "source": [
    "##\n",
    "### 4.- ESCRIBE UN ARCHIVO FASTA\n",
    "#### Escribe un archivo FASTA que tenga las siguientes secuencias:\n",
    "1. ABC123 \tATCGTACGATCGATCGATCGCTAGACGTATCG\n",
    "2. DEF456 \tactgatcgacgatcgatcgatcacgact\n",
    "3. HIJ789 \tACTGAC-ACTGT--ACTGTA----CATGTG\n",
    "\n",
    "###### *Ten en cuenta que todas las secuencias deben tener solo ATGC caracteres y tienen que estar en mayúsculas\n",
    "###### Recuerda que las secuencias en FASTA empiezan por una línea \">identificador\" y la siguiente línea tiene la secuencia\n",
    "\n",
    "###### >ABC123\n",
    "###### ATCGTACGATCGATCGATCGCTAGACGTATCG\n",
    "###### >DEF456\n",
    "###### ACTGATCGACGATCGATCGATCACGACT\n",
    "###### >HIJ789\n",
    "###### ACTGACACTGTACTGTACATGTG"
   ]
  },
  {
   "cell_type": "code",
   "execution_count": 2,
   "metadata": {},
   "outputs": [
    {
     "name": "stdout",
     "output_type": "stream",
     "text": [
      "ABC123\n",
      "ATCGTACGATCGATCGATCGCTAGACGTATCG\n",
      "DEF456\n",
      "actgatcgacgatcgatcgatcacgact\n",
      "HIJ789\n",
      "ACTGAC-ACTGT--ACTGTA----CATGTG\n"
     ]
    }
   ],
   "source": [
    "diccionario={\n",
    "    'ABC123' :'ATCGTACGATCGATCGATCGCTAGACGTATCG',\n",
    "    'DEF456' : 'actgatcgacgatcgatcgatcacgact',\n",
    "    'HIJ789' : 'ACTGAC-ACTGT--ACTGTA----CATGTG'\n",
    "}\n",
    "\n",
    "for key in diccionario.keys():\n",
    "    print(key)\n",
    "    print(diccionario[key])"
   ]
  },
  {
   "cell_type": "code",
   "execution_count": 3,
   "metadata": {},
   "outputs": [],
   "source": [
    "def secuencia_cambiada(seq):\n",
    "    seq = seq.replace('-', '')  \n",
    "    seq = seq.upper()\n",
    "    secuencia_cambiada = ''\n",
    "    for i in range(0, len(seq), 35):  \n",
    "        secuencia_cambiada += seq[i:i+35] + '\\n'\n",
    "    return secuencia_cambiada"
   ]
  },
  {
   "cell_type": "code",
   "execution_count": null,
   "metadata": {},
   "outputs": [],
   "source": [
    "#definimos una función en la que \"guardamos\" el contenido del diccionario como una secuencia \n",
    "#eliminamos los guiones con .replace()\n",
    "#cambiamos todas las letras a mayúsculas con .upper\n",
    "#ponemos que cada línea tenga una longitud de 35 letras, para que nos entren las secuencias en una sola línea"
   ]
  },
  {
   "cell_type": "code",
   "execution_count": 4,
   "metadata": {},
   "outputs": [],
   "source": [
    "with open('secuencia.fasta', 'w') as fasta_file:\n",
    "    for identifier, sequence in diccionario.items():\n",
    "        fasta_file.write ('>' + identifier + '\\n')\n",
    "        fasta_file.write (secuencia_cambiada(sequence))"
   ]
  },
  {
   "cell_type": "code",
   "execution_count": null,
   "metadata": {},
   "outputs": [],
   "source": [
    "#de esta forma creamos un archivo fasta en el que le indicamos el comienzo de cada identificador con \">\" \n",
    "#de esta forma tenemos en una línea el identificador y en la siguiente la secuencia correspondiente "
   ]
  },
  {
   "cell_type": "markdown",
   "metadata": {},
   "source": [
    "##\n",
    "### 5.- ELIMINA ADAPTADORES\n",
    "#### El archivo input.txt tiene unas secuencias de ADN, una por línea. \n",
    "#### Todas las secuencias empiezan con el mismo adaptador que llega hasta la base 14. Escribe un programa que:\n",
    "1. Remueva el adaptador de la secuencia y escriba la secuencia limpia en un archivo\n",
    "2. Imprima en pantalla la longitud de cada secuencia limpia"
   ]
  },
  {
   "cell_type": "code",
   "execution_count": 6,
   "metadata": {},
   "outputs": [
    {
     "name": "stdout",
     "output_type": "stream",
     "text": [
      "Longitud de la secuencia limpia: 47\n"
     ]
    }
   ],
   "source": [
    "with open(\"input.txt\", \"r\") as input_file, open(\"secuencias.txt\", \"w\") as output_file:\n",
    "    for line in input_file:\n",
    "        secuencia_limpia = line[14:]\n",
    "        output_file.write(secuencia_limpia)\n",
    "    print(f\"Longitud de la secuencia limpia: {len(secuencia_limpia)}\")"
   ]
  },
  {
   "cell_type": "code",
   "execution_count": null,
   "metadata": {},
   "outputs": [],
   "source": [
    "#creamos una entrada y una salida \n",
    "    #el archivo de entrada, del que vamos a coger la info es input.txt\n",
    "    #el archivo donde vamos a escribir lo nuevos datos va a ser secuencias.txt \n",
    "#eliminamos el adaptador, diciendo que lea desde la posición 15 \n",
    "#pegamos las seceuncias en el archivo secuencias e imprimimos la longitud de estas "
   ]
  },
  {
   "cell_type": "code",
   "execution_count": 7,
   "metadata": {},
   "outputs": [],
   "source": [
    "input_file.close()\n",
    "output_file.close()"
   ]
  },
  {
   "cell_type": "code",
   "execution_count": null,
   "metadata": {},
   "outputs": [],
   "source": [
    "#para cerrar los archivos "
   ]
  },
  {
   "cell_type": "markdown",
   "metadata": {},
   "source": [
    "##\n",
    "### 6.- PORCENTAJE DE AMINO ACIDOS\n",
    "#### Escribe una función que tome dos argumentos: una secuencia de proteínas y un amino ácido. \n",
    "#### Queremos que devuelva el porcentaje del amino ácido en la secuencia de proteínas. \n",
    "#### Una vez que tengas hecha tu función, emplea las siguientes aserciones para comprobar tu código."
   ]
  },
  {
   "cell_type": "code",
   "execution_count": 11,
   "metadata": {},
   "outputs": [],
   "source": [
    "def porcentaje_aminoacidos (secuencia_proteina, aminoacido): \n",
    "    secuencia_proteina = secuencia_proteina.upper()\n",
    "    aminoacido = aminoacido.upper()\n",
    "    cantidad_aminoacido = secuencia_proteina.count(aminoacido)\n",
    "    longitud_sec = len(secuencia_proteina)\n",
    "    porcentaje = (cantidad_aminoacido/longitud_sec)*100\n",
    "    return porcentaje"
   ]
  },
  {
   "cell_type": "code",
   "execution_count": null,
   "metadata": {},
   "outputs": [],
   "source": [
    "#definimos una función base para analizar nuestros datos\n",
    "#en esta definimos que SIEMPRE lea la secuencia en mayúsculas, de esta forma, si la secuencia esta en minúsculas\n",
    "#la trasnformará a mayúsculas y no tendra fallos para realizar la función \n",
    "#para calcular el porcentaje de aa e la secuencia definimos la cantidad de veces que esta ese aa en la secuencia\n",
    "#dividido entre la longitud total de la secuencia por 100\n",
    "#de esta manera nos devolverá el porcentaje de cualquier aa que elijamos "
   ]
  },
  {
   "cell_type": "code",
   "execution_count": 12,
   "metadata": {},
   "outputs": [
    {
     "name": "stdout",
     "output_type": "stream",
     "text": [
      "El porcentaje de M en la secuencia de proteínas es: 5.00%\n"
     ]
    }
   ],
   "source": [
    "secuencia_protenia = \"MSRSLLLRFLLFLLLLPPLP\"\n",
    "aminoacido = \"M\"\n",
    "porcentaje_M = porcentaje_aminoacidos (secuencia_proteina, aminoacido)\n",
    "print(f\"El porcentaje de {aminoacido} en la secuencia de proteínas es: {porcentaje_M:.2f}%\")"
   ]
  },
  {
   "cell_type": "code",
   "execution_count": 17,
   "metadata": {},
   "outputs": [],
   "source": [
    "assert porcentaje_aminoacidos(\"MSRSLLLRFLLFLLLLPPLP\", \"M\") == 5"
   ]
  },
  {
   "cell_type": "code",
   "execution_count": 13,
   "metadata": {},
   "outputs": [
    {
     "name": "stdout",
     "output_type": "stream",
     "text": [
      "El porcentaje de r en la secuencia de proteínas es: 10.00%\n"
     ]
    }
   ],
   "source": [
    "secuencia_protenia = \"MSRSLLLRFLLFLLLLPPLP\"\n",
    "aminoacido = \"r\"\n",
    "porcentaje_r = porcentaje_aminoacidos (secuencia_proteina, aminoacido)\n",
    "print(f\"El porcentaje de {aminoacido} en la secuencia de proteínas es: {porcentaje_r:.2f}%\")"
   ]
  },
  {
   "cell_type": "code",
   "execution_count": 18,
   "metadata": {},
   "outputs": [],
   "source": [
    "assert porcentaje_aminoacidos(\"MSRSLLLRFLLFLLLLPPLP\", \"r\") == 10"
   ]
  },
  {
   "cell_type": "code",
   "execution_count": 14,
   "metadata": {},
   "outputs": [
    {
     "name": "stdout",
     "output_type": "stream",
     "text": [
      "El porcentaje de L en la secuencia de proteínas es: 50.00%\n"
     ]
    }
   ],
   "source": [
    "secuencia_protenia = \"MSRSLLLRFLLFLLLLPPLP\"\n",
    "aminoacido = \"L\"\n",
    "porcentaje_L = porcentaje_aminoacidos (secuencia_proteina, aminoacido)\n",
    "print(f\"El porcentaje de {aminoacido} en la secuencia de proteínas es: {porcentaje_L:.2f}%\")"
   ]
  },
  {
   "cell_type": "code",
   "execution_count": 19,
   "metadata": {},
   "outputs": [],
   "source": [
    "assert porcentaje_aminoacidos(\"msrslllrfllfllllpplp\", \"L\") == 50"
   ]
  },
  {
   "cell_type": "code",
   "execution_count": 15,
   "metadata": {},
   "outputs": [
    {
     "name": "stdout",
     "output_type": "stream",
     "text": [
      "El porcentaje de Y en la secuencia de proteínas es: 0.00%\n"
     ]
    }
   ],
   "source": [
    "secuencia_protenia = \"MSRSLLLRFLLFLLLLPPLP\"\n",
    "aminoacido = \"Y\"\n",
    "porcentaje_Y = porcentaje_aminoacidos (secuencia_proteina, aminoacido)\n",
    "print(f\"El porcentaje de {aminoacido} en la secuencia de proteínas es: {porcentaje_Y:.2f}%\")"
   ]
  },
  {
   "cell_type": "code",
   "execution_count": 20,
   "metadata": {},
   "outputs": [],
   "source": [
    "assert porcentaje_aminoacidos(\"MSRSLLLRFLLFLLLLPPLP\", \"Y\") == 0"
   ]
  },
  {
   "cell_type": "code",
   "execution_count": null,
   "metadata": {},
   "outputs": [],
   "source": [
    "#assert es un test para comprobar la función que hemos hecho\n",
    "#en nuestro caso, el que no salga ningun resultado, significa que la función da el resultado correcto"
   ]
  }
 ],
 "metadata": {
  "kernelspec": {
   "display_name": "Python 3 (ipykernel)",
   "language": "python",
   "name": "python3"
  },
  "language_info": {
   "codemirror_mode": {
    "name": "ipython",
    "version": 3
   },
   "file_extension": ".py",
   "mimetype": "text/x-python",
   "name": "python",
   "nbconvert_exporter": "python",
   "pygments_lexer": "ipython3",
   "version": "3.11.4"
  }
 },
 "nbformat": 4,
 "nbformat_minor": 4
}
